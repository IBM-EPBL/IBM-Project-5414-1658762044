{
  "nbformat": 4,
  "nbformat_minor": 0,
  "metadata": {
    "colab": {
      "provenance": []
    },
    "kernelspec": {
      "name": "python3",
      "display_name": "Python 3"
    },
    "language_info": {
      "name": "python"
    }
  },
  "cells": [
    {
      "cell_type": "markdown",
      "source": [
        "# IMAGE PREPROCESSING"
      ],
      "metadata": {
        "id": "xT5q0ojuSOsQ"
      }
    },
    {
      "cell_type": "markdown",
      "source": [
        "**Import ImageDataGenerator Library And Configure It**"
      ],
      "metadata": {
        "id": "5cyEzA88SYUT"
      }
    },
    {
      "cell_type": "code",
      "execution_count": 1,
      "metadata": {
        "id": "fTN8CKudmEkk"
      },
      "outputs": [],
      "source": [
        "from tensorflow.keras.preprocessing.image import ImageDataGenerator"
      ]
    },
    {
      "cell_type": "markdown",
      "source": [
        "Training DataGenerator"
      ],
      "metadata": {
        "id": "W3cXEEFLScIj"
      }
    },
    {
      "cell_type": "code",
      "source": [
        "train_datagen= ImageDataGenerator(rescale= 1./255, shear_range = 0.2, zoom_range=0.2, horizontal_flip=True,vertical_flip=False)"
      ],
      "metadata": {
        "id": "uMk15i0wmXSE"
      },
      "execution_count": 2,
      "outputs": []
    },
    {
      "cell_type": "markdown",
      "source": [
        "Testing DataGenerator"
      ],
      "metadata": {
        "id": "qh8y-v1BSgCT"
      }
    },
    {
      "cell_type": "code",
      "source": [
        "test_datagen = ImageDataGenerator(rescale=1./255)"
      ],
      "metadata": {
        "id": "aRRcPsesmXyY"
      },
      "execution_count": 3,
      "outputs": []
    },
    {
      "cell_type": "markdown",
      "source": [
        "**Apply ImageDataGenerator Functionality To Train And Test set**"
      ],
      "metadata": {
        "id": "xvMAWUNSSi5_"
      }
    },
    {
      "cell_type": "code",
      "source": [
        "x_train = train_datagen.flow_from_directory('/content/drive/MyDrive/IBM PROJECT/DATA COLLECTION/training_set',target_size=(64,64), batch_size=300,\n",
        "                                          class_mode='categorical', color_mode = \"grayscale\")"
      ],
      "metadata": {
        "colab": {
          "base_uri": "https://localhost:8080/"
        },
        "id": "zS5sAfGombh1",
        "outputId": "62703377-d334-4d1a-ecc8-b68a707015fd"
      },
      "execution_count": 4,
      "outputs": [
        {
          "output_type": "stream",
          "name": "stdout",
          "text": [
            "Found 15130 images belonging to 9 classes.\n"
          ]
        }
      ]
    },
    {
      "cell_type": "code",
      "source": [
        "x_test = test_datagen.flow_from_directory('/content/drive/MyDrive/IBM PROJECT/DATA COLLECTION/test_set',target_size=(64,64), batch_size=300,\n",
        "                                          class_mode='categorical', color_mode = \"grayscale\")"
      ],
      "metadata": {
        "colab": {
          "base_uri": "https://localhost:8080/"
        },
        "id": "jKjGu9xMmlvV",
        "outputId": "f4b98bd9-500e-4f38-9976-2eabab535d95"
      },
      "execution_count": 5,
      "outputs": [
        {
          "output_type": "stream",
          "name": "stdout",
          "text": [
            "Found 2250 images belonging to 9 classes.\n"
          ]
        }
      ]
    },
    {
      "cell_type": "code",
      "source": [
        "x_train.class_indices"
      ],
      "metadata": {
        "colab": {
          "base_uri": "https://localhost:8080/"
        },
        "id": "aAETsOCsmuHK",
        "outputId": "ba9aaba3-221e-47f9-e8b7-6b653b27c648"
      },
      "execution_count": 6,
      "outputs": [
        {
          "output_type": "execute_result",
          "data": {
            "text/plain": [
              "{'A': 0, 'B': 1, 'C': 2, 'D': 3, 'E': 4, 'F': 5, 'G': 6, 'H': 7, 'I': 8}"
            ]
          },
          "metadata": {},
          "execution_count": 6
        }
      ]
    },
    {
      "cell_type": "code",
      "source": [
        "x_test.class_indices"
      ],
      "metadata": {
        "colab": {
          "base_uri": "https://localhost:8080/"
        },
        "id": "cj4QKI4NnYhc",
        "outputId": "7851f1f1-5869-4430-a06c-9bf41d48360e"
      },
      "execution_count": 7,
      "outputs": [
        {
          "output_type": "execute_result",
          "data": {
            "text/plain": [
              "{'A': 0, 'B': 1, 'C': 2, 'D': 3, 'E': 4, 'F': 5, 'G': 6, 'H': 7, 'I': 8}"
            ]
          },
          "metadata": {},
          "execution_count": 7
        }
      ]
    },
    {
      "cell_type": "markdown",
      "source": [
        "# MODEL BUILDING"
      ],
      "metadata": {
        "id": "C96r24Mbn9We"
      }
    },
    {
      "cell_type": "markdown",
      "source": [
        "Import The Required Model Building Libraries"
      ],
      "metadata": {
        "id": "cCE5XgAKSGV8"
      }
    },
    {
      "cell_type": "code",
      "source": [
        "from keras.models import Sequential\n",
        "from keras.layers import Dense\n",
        "from keras.layers import Convolution2D\n",
        "from tensorflow.keras.layers import Conv2D, MaxPooling2D\n",
        "from keras.layers import Dropout\n",
        "from keras.layers import Flatten"
      ],
      "metadata": {
        "id": "-JxCo2ton_yT"
      },
      "execution_count": 19,
      "outputs": []
    },
    {
      "cell_type": "markdown",
      "source": [
        "INITIALIZE THE MODEL"
      ],
      "metadata": {
        "id": "RgbzBXDIR-KF"
      }
    },
    {
      "cell_type": "code",
      "source": [
        "model=Sequential()"
      ],
      "metadata": {
        "id": "TEkgdzOIoEOJ"
      },
      "execution_count": 20,
      "outputs": []
    },
    {
      "cell_type": "markdown",
      "source": [
        "ADDING THE CONVOLUTION LAYER"
      ],
      "metadata": {
        "id": "NvA4jRpYR5E8"
      }
    },
    {
      "cell_type": "code",
      "source": [
        "model.add(Convolution2D(32,(3,3), input_shape=(64,64,1), activation = 'relu'))"
      ],
      "metadata": {
        "id": "uQzw_fruoL1r"
      },
      "execution_count": 21,
      "outputs": []
    },
    {
      "cell_type": "markdown",
      "source": [
        "ADDING THE POOLING LAYER"
      ],
      "metadata": {
        "id": "8Br25hQQRyhz"
      }
    },
    {
      "cell_type": "code",
      "source": [
        "model.add(MaxPooling2D(pool_size=(2,2)))"
      ],
      "metadata": {
        "id": "KvtDwlKHoNPD"
      },
      "execution_count": 22,
      "outputs": []
    },
    {
      "cell_type": "markdown",
      "source": [
        "ADDING THE FLATTEN LAYER"
      ],
      "metadata": {
        "id": "Gcu77494RuJ4"
      }
    },
    {
      "cell_type": "code",
      "source": [
        "model.add(Flatten())"
      ],
      "metadata": {
        "id": "xEHPIjamoPvl"
      },
      "execution_count": 23,
      "outputs": []
    },
    {
      "cell_type": "markdown",
      "source": [
        "ADDING THE DENSE LAYER"
      ],
      "metadata": {
        "id": "QRs-XMSkRpSY"
      }
    },
    {
      "cell_type": "code",
      "source": [
        "model.add(Dense( units=512, activation='relu'))"
      ],
      "metadata": {
        "id": "U5A4yWGMogDg"
      },
      "execution_count": 24,
      "outputs": []
    },
    {
      "cell_type": "code",
      "source": [
        "model.add(Dense(units=9, activation='softmax'))"
      ],
      "metadata": {
        "id": "rfekXSDfoe9S"
      },
      "execution_count": 25,
      "outputs": []
    },
    {
      "cell_type": "code",
      "source": [
        "model.summary()"
      ],
      "metadata": {
        "colab": {
          "base_uri": "https://localhost:8080/"
        },
        "id": "DSBdfE4FooTP",
        "outputId": "0c6ac393-0383-4f98-e4f8-3e70acf4c332"
      },
      "execution_count": 26,
      "outputs": [
        {
          "output_type": "stream",
          "name": "stdout",
          "text": [
            "Model: \"sequential_2\"\n",
            "_________________________________________________________________\n",
            " Layer (type)                Output Shape              Param #   \n",
            "=================================================================\n",
            " conv2d_1 (Conv2D)           (None, 62, 62, 32)        320       \n",
            "                                                                 \n",
            " max_pooling2d_1 (MaxPooling  (None, 31, 31, 32)       0         \n",
            " 2D)                                                             \n",
            "                                                                 \n",
            " flatten_2 (Flatten)         (None, 30752)             0         \n",
            "                                                                 \n",
            " dense_2 (Dense)             (None, 512)               15745536  \n",
            "                                                                 \n",
            " dense_3 (Dense)             (None, 9)                 4617      \n",
            "                                                                 \n",
            "=================================================================\n",
            "Total params: 15,750,473\n",
            "Trainable params: 15,750,473\n",
            "Non-trainable params: 0\n",
            "_________________________________________________________________\n"
          ]
        }
      ]
    },
    {
      "cell_type": "markdown",
      "source": [
        "COMPILE THE MODEL"
      ],
      "metadata": {
        "id": "SAzcvv12RjnX"
      }
    },
    {
      "cell_type": "code",
      "source": [
        "model.compile(loss='categorical_crossentropy', optimizer='adam', metrics=['accuracy'])"
      ],
      "metadata": {
        "id": "RNxLLsgQpMZV"
      },
      "execution_count": 27,
      "outputs": []
    },
    {
      "cell_type": "markdown",
      "source": [
        "FIT THE MODEL"
      ],
      "metadata": {
        "id": "q5mqPy0LRf0j"
      }
    },
    {
      "cell_type": "code",
      "source": [
        "model.fit_generator(x_train, steps_per_epoch=24, epochs=10, validation_data=x_test,validation_steps=40)"
      ],
      "metadata": {
        "colab": {
          "base_uri": "https://localhost:8080/"
        },
        "id": "h8yP5vQ7pNmO",
        "outputId": "d5c3707a-a574-4a26-f363-e25f892a4328"
      },
      "execution_count": 28,
      "outputs": [
        {
          "metadata": {
            "tags": null
          },
          "name": "stderr",
          "output_type": "stream",
          "text": [
            "/usr/local/lib/python3.7/dist-packages/ipykernel_launcher.py:1: UserWarning: `Model.fit_generator` is deprecated and will be removed in a future version. Please use `Model.fit`, which supports generators.\n",
            "  \"\"\"Entry point for launching an IPython kernel.\n"
          ]
        },
        {
          "metadata": {
            "tags": null
          },
          "name": "stdout",
          "output_type": "stream",
          "text": [
            "Epoch 1/10\n",
            "24/24 [==============================] - ETA: 0s - loss: 1.3048 - accuracy: 0.6585  "
          ]
        },
        {
          "metadata": {
            "tags": null
          },
          "name": "stderr",
          "output_type": "stream",
          "text": [
            "WARNING:tensorflow:Your input ran out of data; interrupting training. Make sure that your dataset or generator can generate at least `steps_per_epoch * epochs` batches (in this case, 40 batches). You may need to use the repeat() function when building your dataset.\n"
          ]
        },
        {
          "output_type": "stream",
          "name": "stdout",
          "text": [
            "24/24 [==============================] - 5193s 218s/step - loss: 1.3048 - accuracy: 0.6585 - val_loss: 0.3628 - val_accuracy: 0.9169\n",
            "Epoch 2/10\n",
            "24/24 [==============================] - 1995s 83s/step - loss: 0.2711 - accuracy: 0.9250\n",
            "Epoch 3/10\n",
            "24/24 [==============================] - 990s 42s/step - loss: 0.1333 - accuracy: 0.9661\n",
            "Epoch 4/10\n",
            "24/24 [==============================] - 497s 21s/step - loss: 0.0815 - accuracy: 0.9811\n",
            "Epoch 5/10\n",
            "24/24 [==============================] - 289s 12s/step - loss: 0.0571 - accuracy: 0.9862\n",
            "Epoch 6/10\n",
            "24/24 [==============================] - 275s 12s/step - loss: 0.0403 - accuracy: 0.9908\n",
            "Epoch 7/10\n",
            "24/24 [==============================] - 96s 4s/step - loss: 0.0300 - accuracy: 0.9933\n",
            "Epoch 8/10\n",
            "24/24 [==============================] - 66s 3s/step - loss: 0.0225 - accuracy: 0.9946\n",
            "Epoch 9/10\n",
            "24/24 [==============================] - 46s 2s/step - loss: 0.0192 - accuracy: 0.9947\n",
            "Epoch 10/10\n",
            "24/24 [==============================] - 43s 2s/step - loss: 0.0142 - accuracy: 0.9978\n"
          ]
        },
        {
          "output_type": "execute_result",
          "data": {
            "text/plain": [
              "<keras.callbacks.History at 0x7f7bae4d0050>"
            ]
          },
          "metadata": {},
          "execution_count": 28
        }
      ]
    },
    {
      "cell_type": "markdown",
      "source": [
        "SAVING THE MODEL"
      ],
      "metadata": {
        "id": "4M8ffxs-RZRZ"
      }
    },
    {
      "cell_type": "code",
      "source": [
        "model.save('asl_model_84_54.h5')"
      ],
      "metadata": {
        "id": "V1fV1VRqpUI1"
      },
      "execution_count": 29,
      "outputs": []
    }
  ]
}