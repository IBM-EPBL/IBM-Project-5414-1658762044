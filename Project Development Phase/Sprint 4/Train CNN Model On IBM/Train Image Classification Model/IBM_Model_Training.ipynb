{
  "cells": [
    {
      "cell_type": "markdown",
      "source": [
        "# **Model Training for Real Time Communication through AI for Specially** "
      ],
      "metadata": {
        "id": "Q2Idx8LJ1Dvc"
      }
    },
    {
      "cell_type": "markdown",
      "source": [
        "Loading the Dataset & Image Data Generation"
      ],
      "metadata": {
        "id": "_qaZMleT1JkD"
      }
    },
    {
      "metadata": {
        "id": "pQEA5tK60HbW",
        "outputId": "10633a68-38b6-4c63-8152-d2b8c2935b32"
      },
      "cell_type": "code",
      "source": [
        "pwd"
      ],
      "execution_count": null,
      "outputs": [
        {
          "output_type": "execute_result",
          "execution_count": 1,
          "data": {
            "text/plain": "'/home/wsuser/work'"
          },
          "metadata": {}
        }
      ]
    },
    {
      "metadata": {
        "id": "0OK1ZRvd0Hbf",
        "outputId": "87c1f33a-f1f5-4407-d566-c3d2815f1791"
      },
      "cell_type": "code",
      "source": [
        "!pip install tensorflow==2.7.1"
      ],
      "execution_count": null,
      "outputs": [
        {
          "output_type": "stream",
          "text": "Collecting tensorflow==2.7.1\n  Downloading tensorflow-2.7.1-cp39-cp39-manylinux2010_x86_64.whl (495.2 MB)\n\u001b[K     |████████████████████████████████| 495.2 MB 28 kB/s s eta 0:00:011.8 MB 11.6 MB/s eta 0:00:40 |████▉                           | 74.3 MB 11.6 MB/s eta 0:00:37    |██████████                      | 153.3 MB 104.8 MB/s eta 0:00:04    |██████████████▌                 | 225.1 MB 104.5 MB/s eta 0:00:03/s eta 0:00:12/s eta 0:00:12��▎               | 252.6 MB 22.3 MB/s eta 0:00:11��▋               | 257.7 MB 22.3 MB/s eta 0:00:11MB/s eta 0:00:10��█▎            | 298.8 MB 22.3 MB/s eta 0:00:09 111.0 MB/s eta 0:00:02��███████████████▊        | 366.5 MB 111.0 MB/s eta 0:00:02��███████▊     | 412.9 MB 102.7 MB/s eta 0:00:01��████████     | 416.8 MB 102.7 MB/s eta 0:00:01��██████████████████▏    | 419.9 MB 102.7 MB/s eta 0:00:01███████▋    | 427.2 MB 102.7 MB/s eta 0:00:01    |████████████████████████████▏   | 435.9 MB 102.7 MB/s eta 0:00:01MB 102.7 MB/s eta 0:00:01��██████████████▉ | 476.4 MB 14.6 MB/s eta 0:00:02\n\u001b[?25hRequirement already satisfied: typing-extensions>=3.6.6 in /opt/conda/envs/Python-3.9/lib/python3.9/site-packages (from tensorflow==2.7.1) (4.1.1)\nRequirement already satisfied: absl-py>=0.4.0 in /opt/conda/envs/Python-3.9/lib/python3.9/site-packages (from tensorflow==2.7.1) (0.12.0)\nRequirement already satisfied: flatbuffers<3.0,>=1.12 in /opt/conda/envs/Python-3.9/lib/python3.9/site-packages (from tensorflow==2.7.1) (2.0)\nRequirement already satisfied: opt-einsum>=2.3.2 in /opt/conda/envs/Python-3.9/lib/python3.9/site-packages (from tensorflow==2.7.1) (3.3.0)\nRequirement already satisfied: protobuf>=3.9.2 in /opt/conda/envs/Python-3.9/lib/python3.9/site-packages (from tensorflow==2.7.1) (3.19.1)\nRequirement already satisfied: tensorboard~=2.6 in /opt/conda/envs/Python-3.9/lib/python3.9/site-packages (from tensorflow==2.7.1) (2.7.0)\nRequirement already satisfied: tensorflow-estimator<2.8,~=2.7.0rc0 in /opt/conda/envs/Python-3.9/lib/python3.9/site-packages (from tensorflow==2.7.1) (2.7.0)\nRequirement already satisfied: gast<0.5.0,>=0.2.1 in /opt/conda/envs/Python-3.9/lib/python3.9/site-packages (from tensorflow==2.7.1) (0.4.0)\nRequirement already satisfied: numpy>=1.14.5 in /opt/conda/envs/Python-3.9/lib/python3.9/site-packages (from tensorflow==2.7.1) (1.20.3)\nRequirement already satisfied: wheel<1.0,>=0.32.0 in /opt/conda/envs/Python-3.9/lib/python3.9/site-packages (from tensorflow==2.7.1) (0.37.0)\nRequirement already satisfied: wrapt>=1.11.0 in /opt/conda/envs/Python-3.9/lib/python3.9/site-packages (from tensorflow==2.7.1) (1.12.1)\nRequirement already satisfied: termcolor>=1.1.0 in /opt/conda/envs/Python-3.9/lib/python3.9/site-packages (from tensorflow==2.7.1) (1.1.0)\nRequirement already satisfied: keras-preprocessing>=1.1.1 in /opt/conda/envs/Python-3.9/lib/python3.9/site-packages (from tensorflow==2.7.1) (1.1.2)\nRequirement already satisfied: h5py>=2.9.0 in /opt/conda/envs/Python-3.9/lib/python3.9/site-packages (from tensorflow==2.7.1) (3.2.1)\nRequirement already satisfied: google-pasta>=0.1.1 in /opt/conda/envs/Python-3.9/lib/python3.9/site-packages (from tensorflow==2.7.1) (0.2.0)\nRequirement already satisfied: keras<2.8,>=2.7.0rc0 in /opt/conda/envs/Python-3.9/lib/python3.9/site-packages (from tensorflow==2.7.1) (2.7.0)\nRequirement already satisfied: grpcio<2.0,>=1.24.3 in /opt/conda/envs/Python-3.9/lib/python3.9/site-packages (from tensorflow==2.7.1) (1.42.0)\nCollecting libclang>=9.0.1\n  Downloading libclang-14.0.6-py2.py3-none-manylinux2010_x86_64.whl (14.1 MB)\n\u001b[K     |████████████████████████████████| 14.1 MB 82.8 MB/s eta 0:00:01\n\u001b[?25hRequirement already satisfied: astunparse>=1.6.0 in /opt/conda/envs/Python-3.9/lib/python3.9/site-packages (from tensorflow==2.7.1) (1.6.3)\nRequirement already satisfied: six>=1.12.0 in /opt/conda/envs/Python-3.9/lib/python3.9/site-packages (from tensorflow==2.7.1) (1.15.0)\nRequirement already satisfied: tensorflow-io-gcs-filesystem>=0.21.0 in /opt/conda/envs/Python-3.9/lib/python3.9/site-packages (from tensorflow==2.7.1) (0.23.1)\nRequirement already satisfied: markdown>=2.6.8 in /opt/conda/envs/Python-3.9/lib/python3.9/site-packages (from tensorboard~=2.6->tensorflow==2.7.1) (3.3.3)\nRequirement already satisfied: tensorboard-data-server<0.7.0,>=0.6.0 in /opt/conda/envs/Python-3.9/lib/python3.9/site-packages (from tensorboard~=2.6->tensorflow==2.7.1) (0.6.1)\nRequirement already satisfied: werkzeug>=0.11.15 in /opt/conda/envs/Python-3.9/lib/python3.9/site-packages (from tensorboard~=2.6->tensorflow==2.7.1) (2.0.2)\nRequirement already satisfied: requests<3,>=2.21.0 in /opt/conda/envs/Python-3.9/lib/python3.9/site-packages (from tensorboard~=2.6->tensorflow==2.7.1) (2.26.0)\nRequirement already satisfied: google-auth<3,>=1.6.3 in /opt/conda/envs/Python-3.9/lib/python3.9/site-packages (from tensorboard~=2.6->tensorflow==2.7.1) (1.23.0)\nRequirement already satisfied: google-auth-oauthlib<0.5,>=0.4.1 in /opt/conda/envs/Python-3.9/lib/python3.9/site-packages (from tensorboard~=2.6->tensorflow==2.7.1) (0.4.4)\nRequirement already satisfied: setuptools>=41.0.0 in /opt/conda/envs/Python-3.9/lib/python3.9/site-packages (from tensorboard~=2.6->tensorflow==2.7.1) (58.0.4)\nRequirement already satisfied: tensorboard-plugin-wit>=1.6.0 in /opt/conda/envs/Python-3.9/lib/python3.9/site-packages (from tensorboard~=2.6->tensorflow==2.7.1) (1.6.0)\nRequirement already satisfied: cachetools<5.0,>=2.0.0 in /opt/conda/envs/Python-3.9/lib/python3.9/site-packages (from google-auth<3,>=1.6.3->tensorboard~=2.6->tensorflow==2.7.1) (4.2.2)\nRequirement already satisfied: rsa<5,>=3.1.4 in /opt/conda/envs/Python-3.9/lib/python3.9/site-packages (from google-auth<3,>=1.6.3->tensorboard~=2.6->tensorflow==2.7.1) (4.7.2)\nRequirement already satisfied: pyasn1-modules>=0.2.1 in /opt/conda/envs/Python-3.9/lib/python3.9/site-packages (from google-auth<3,>=1.6.3->tensorboard~=2.6->tensorflow==2.7.1) (0.2.8)\nRequirement already satisfied: requests-oauthlib>=0.7.0 in /opt/conda/envs/Python-3.9/lib/python3.9/site-packages (from google-auth-oauthlib<0.5,>=0.4.1->tensorboard~=2.6->tensorflow==2.7.1) (1.3.0)\nRequirement already satisfied: pyasn1<0.5.0,>=0.4.6 in /opt/conda/envs/Python-3.9/lib/python3.9/site-packages (from pyasn1-modules>=0.2.1->google-auth<3,>=1.6.3->tensorboard~=2.6->tensorflow==2.7.1) (0.4.8)\nRequirement already satisfied: certifi>=2017.4.17 in /opt/conda/envs/Python-3.9/lib/python3.9/site-packages (from requests<3,>=2.21.0->tensorboard~=2.6->tensorflow==2.7.1) (2022.9.24)\nRequirement already satisfied: charset-normalizer~=2.0.0 in /opt/conda/envs/Python-3.9/lib/python3.9/site-packages (from requests<3,>=2.21.0->tensorboard~=2.6->tensorflow==2.7.1) (2.0.4)\nRequirement already satisfied: urllib3<1.27,>=1.21.1 in /opt/conda/envs/Python-3.9/lib/python3.9/site-packages (from requests<3,>=2.21.0->tensorboard~=2.6->tensorflow==2.7.1) (1.26.7)\nRequirement already satisfied: idna<4,>=2.5 in /opt/conda/envs/Python-3.9/lib/python3.9/site-packages (from requests<3,>=2.21.0->tensorboard~=2.6->tensorflow==2.7.1) (3.3)\nRequirement already satisfied: oauthlib>=3.0.0 in /opt/conda/envs/Python-3.9/lib/python3.9/site-packages (from requests-oauthlib>=0.7.0->google-auth-oauthlib<0.5,>=0.4.1->tensorboard~=2.6->tensorflow==2.7.1) (3.2.1)\nInstalling collected packages: libclang, tensorflow\n  Attempting uninstall: tensorflow\n    Found existing installation: tensorflow 2.7.2\n    Uninstalling tensorflow-2.7.2:\n      Successfully uninstalled tensorflow-2.7.2\nSuccessfully installed libclang-14.0.6 tensorflow-2.7.1\n",
          "name": "stdout"
        }
      ]
    },
    {
      "metadata": {
        "id": "DNt9Rf0U0Hbi",
        "outputId": "cb067713-f593-4b9d-917b-1122d674568f"
      },
      "cell_type": "code",
      "source": [
        "from tensorflow.keras.preprocessing.image import ImageDataGenerator"
      ],
      "execution_count": null,
      "outputs": [
        {
          "output_type": "stream",
          "text": "2022-11-17 08:34:15.484936: W tensorflow/stream_executor/platform/default/dso_loader.cc:64] Could not load dynamic library 'libcudart.so.11.0'; dlerror: libcudart.so.11.0: cannot open shared object file: No such file or directory; LD_LIBRARY_PATH: /opt/ibm/dsdriver/lib:/opt/oracle/lib:/opt/conda/envs/Python-3.9/lib/python3.9/site-packages/tensorflow\n",
          "name": "stderr"
        }
      ]
    },
    {
      "metadata": {
        "id": "l9Uzw4g-0Hbk"
      },
      "cell_type": "code",
      "source": [
        "# Training Datagen\n",
        "train_datagen = ImageDataGenerator(rescale=1/255,zoom_range=0.2,horizontal_flip=True,vertical_flip=False)\n",
        "# Testing Datagen\n",
        "test_datagen = ImageDataGenerator(rescale=1/255)"
      ],
      "execution_count": null,
      "outputs": []
    },
    {
      "metadata": {
        "id": "W4DsnAPE0Hbm"
      },
      "cell_type": "code",
      "source": [
        "\n",
        "# @hidden_cell\n",
        "# The following code contains the credentials for a file in your IBM Cloud Object Storage.\n",
        "# You might want to remove those credentials before you share your notebook.\n",
        "metadata_1 = {\n",
        "    'IAM_SERVICE_ID': 'iam-ServiceId-051389bc-b997-4dc9-9154-2a6181725c5d',\n",
        "    'IBM_API_KEY_ID': 'vj6RqKgGgc_Jg5WFtNmjZDhFZH7os9CYqSX0_1NtPBu8',\n",
        "    'ENDPOINT': 'https://s3.private.us.cloud-object-storage.appdomain.cloud',\n",
        "    'IBM_AUTH_ENDPOINT': 'https://iam.cloud.ibm.com/oidc/token',\n",
        "    'BUCKET': 'ibmdeployment-donotdelete-pr-rgezqdkeyu6ksy',\n",
        "    'FILE': 'conversation engine for deaf and dumb.zip'\n",
        "}\n",
        "import os, types\n",
        "import pandas as pd\n",
        "from botocore.client import Config\n",
        "import ibm_boto3\n",
        "\n",
        "def __iter__(self): return 0\n",
        "\n",
        "# @hidden_cell\n",
        "# The following code accesses a file in your IBM Cloud Object Storage. It includes your credentials.\n",
        "# You might want to remove those credentials before you share the notebook.\n",
        "cos_client = ibm_boto3.client(service_name='s3',\n",
        "    ibm_api_key_id='vj6RqKgGgc_Jg5WFtNmjZDhFZH7os9CYqSX0_1NtPBu8',\n",
        "    ibm_auth_endpoint=\"https://iam.cloud.ibm.com/oidc/token\",\n",
        "    config=Config(signature_version='oauth'),\n",
        "    endpoint_url='https://s3.private.us.cloud-object-storage.appdomain.cloud')\n",
        "\n",
        "bucket = 'ibmdeployment-donotdelete-pr-rgezqdkeyu6ksy'\n",
        "object_key = 'conversation engine for deaf and dumb.zip'\n",
        "\n",
        "streaming_body_2 = cos_client.get_object(Bucket=bucket, Key=object_key)['Body']\n",
        "\n",
        "# Your data file was loaded into a botocore.response.StreamingBody object.\n",
        "# Please read the documentation of ibm_boto3 and pandas to learn more about the possibilities to load the data.\n",
        "# ibm_boto3 documentation: https://ibm.github.io/ibm-cos-sdk-python/\n",
        "# pandas documentation: http://pandas.pydata.org/"
      ],
      "execution_count": null,
      "outputs": []
    },
    {
      "metadata": {
        "id": "E03jMA680Hbo"
      },
      "cell_type": "code",
      "source": [
        "from io import BytesIO\n",
        "import zipfile\n",
        "unzip = zipfile.ZipFile(BytesIO(streaming_body_2.read()), 'r')\n",
        "file_paths = unzip.namelist()\n",
        "for path in file_paths:\n",
        "    unzip.extract(path)"
      ],
      "execution_count": null,
      "outputs": []
    },
    {
      "metadata": {
        "id": "86bZmVXl0Hbo",
        "outputId": "6a48ad71-d1e1-457f-c242-62516368e21e"
      },
      "cell_type": "code",
      "source": [
        "%%bash\n",
        "ls "
      ],
      "execution_count": null,
      "outputs": [
        {
          "output_type": "stream",
          "text": "Dataset\n",
          "name": "stdout"
        }
      ]
    },
    {
      "metadata": {
        "id": "AoGWkrlg0Hbq",
        "outputId": "7becf17e-4ac5-46d4-dfde-ff0938f87f49"
      },
      "cell_type": "code",
      "source": [
        "pwd"
      ],
      "execution_count": null,
      "outputs": [
        {
          "output_type": "execute_result",
          "execution_count": 12,
          "data": {
            "text/plain": "'/home/wsuser/work'"
          },
          "metadata": {}
        }
      ]
    },
    {
      "metadata": {
        "id": "-H1Oeqh20Hbr",
        "outputId": "bda6c6d1-9d1f-4622-915d-ff2c9509b99a"
      },
      "cell_type": "code",
      "source": [
        "x_train=train_datagen.flow_from_directory(r'/home/wsuser/work/Dataset/training_set',target_size=(64,64), class_mode='categorical',batch_size=900)\n",
        "# Testing Dataset\n",
        "x_test=test_datagen.flow_from_directory(r'/home/wsuser/work/Dataset/test_set',target_size=(64,64), class_mode='categorical',batch_size=900)\n"
      ],
      "execution_count": null,
      "outputs": [
        {
          "output_type": "stream",
          "text": "Found 15750 images belonging to 9 classes.\nFound 2250 images belonging to 9 classes.\n",
          "name": "stdout"
        }
      ]
    },
    {
      "metadata": {
        "id": "Gczee8vq0Hbs",
        "outputId": "ef0f3450-15ae-43d8-a712-f065b6afc69c"
      },
      "cell_type": "code",
      "source": [
        "print(\"Len x-train : \", len(x_train))\n",
        "print(\"Len x-test : \", len(x_test))"
      ],
      "execution_count": null,
      "outputs": [
        {
          "output_type": "stream",
          "text": "Len x-train :  18\nLen x-test :  3\n",
          "name": "stdout"
        }
      ]
    },
    {
      "metadata": {
        "id": "QnqZQJx40Hbt",
        "outputId": "7b4ecb50-4f28-4920-814f-96b87af3aabc"
      },
      "cell_type": "code",
      "source": [
        "x_train.class_indices"
      ],
      "execution_count": null,
      "outputs": [
        {
          "output_type": "execute_result",
          "execution_count": 15,
          "data": {
            "text/plain": "{'A': 0, 'B': 1, 'C': 2, 'D': 3, 'E': 4, 'F': 5, 'G': 6, 'H': 7, 'I': 8}"
          },
          "metadata": {}
        }
      ]
    },
    {
      "cell_type": "markdown",
      "source": [
        "Model Creation"
      ],
      "metadata": {
        "id": "jM7z-f8K1fi2"
      }
    },
    {
      "metadata": {
        "id": "2cuQKuI70Hbu"
      },
      "cell_type": "code",
      "source": [
        "# Importing Libraries\n",
        "from tensorflow.keras.models import Sequential\n",
        "from tensorflow.keras.layers import Convolution2D,MaxPooling2D,Flatten,Dense"
      ],
      "execution_count": null,
      "outputs": []
    },
    {
      "metadata": {
        "id": "9l4uY63c0Hbv"
      },
      "cell_type": "code",
      "source": [
        "# Creating Model\n",
        "model=Sequential()"
      ],
      "execution_count": null,
      "outputs": []
    },
    {
      "metadata": {
        "id": "NGdavLg70Hb1"
      },
      "cell_type": "code",
      "source": [
        "# Adding Layers\n",
        "model.add(Convolution2D(32,(3,3),activation='relu',input_shape=(64,64,3)))\n",
        "model.add(MaxPooling2D(pool_size=(2,2)))\n",
        "model.add(Flatten())\n",
        "\n",
        "# Adding Hidden Layers\n",
        "model.add(Dense(300,activation='relu'))\n",
        "model.add(Dense(150,activation='relu'))\n",
        "\n",
        "# Adding Output Layer\n",
        "model.add(Dense(9,activation='softmax'))"
      ],
      "execution_count": null,
      "outputs": []
    },
    {
      "metadata": {
        "id": "6ufNMd9J0Hb3"
      },
      "cell_type": "code",
      "source": [
        "# Compiling the Model\n",
        "model.compile(loss='categorical_crossentropy',optimizer='adam',metrics=['accuracy'])"
      ],
      "execution_count": null,
      "outputs": []
    },
    {
      "metadata": {
        "id": "TNPjOV1U0Hb3",
        "outputId": "3b06d76a-3a7f-4ba5-a648-7ad5e7213b29"
      },
      "cell_type": "code",
      "source": [
        "# Fitting the Model Generator\n",
        "model.fit_generator(x_train,steps_per_epoch=len(x_train),epochs=10,validation_data=x_test,validation_steps=len(x_test))"
      ],
      "execution_count": null,
      "outputs": [
        {
          "output_type": "stream",
          "text": "/tmp/wsuser/ipykernel_164/1042518445.py:2: UserWarning: `Model.fit_generator` is deprecated and will be removed in a future version. Please use `Model.fit`, which supports generators.\n  model.fit_generator(x_train,steps_per_epoch=len(x_train),epochs=10,validation_data=x_test,validation_steps=len(x_test))\n",
          "name": "stderr"
        },
        {
          "output_type": "stream",
          "text": "Epoch 1/10\n18/18 [==============================] - 69s 4s/step - loss: 1.5328 - accuracy: 0.5311 - val_loss: 0.5761 - val_accuracy: 0.8476\nEpoch 2/10\n18/18 [==============================] - 72s 4s/step - loss: 0.3691 - accuracy: 0.8942 - val_loss: 0.2856 - val_accuracy: 0.9178\nEpoch 3/10\n18/18 [==============================] - 69s 4s/step - loss: 0.1501 - accuracy: 0.9586 - val_loss: 0.2036 - val_accuracy: 0.9462\nEpoch 4/10\n18/18 [==============================] - 73s 4s/step - loss: 0.0804 - accuracy: 0.9781 - val_loss: 0.1724 - val_accuracy: 0.9640\nEpoch 5/10\n18/18 [==============================] - 67s 4s/step - loss: 0.0505 - accuracy: 0.9870 - val_loss: 0.1939 - val_accuracy: 0.9636\nEpoch 6/10\n18/18 [==============================] - 70s 4s/step - loss: 0.0351 - accuracy: 0.9912 - val_loss: 0.1795 - val_accuracy: 0.9738\nEpoch 7/10\n18/18 [==============================] - 70s 4s/step - loss: 0.0232 - accuracy: 0.9947 - val_loss: 0.1699 - val_accuracy: 0.9764\nEpoch 8/10\n18/18 [==============================] - 68s 4s/step - loss: 0.0173 - accuracy: 0.9967 - val_loss: 0.1509 - val_accuracy: 0.9782\nEpoch 9/10\n18/18 [==============================] - 70s 4s/step - loss: 0.0135 - accuracy: 0.9971 - val_loss: 0.1806 - val_accuracy: 0.9782\nEpoch 10/10\n18/18 [==============================] - 73s 4s/step - loss: 0.0105 - accuracy: 0.9980 - val_loss: 0.1891 - val_accuracy: 0.9778\n",
          "name": "stdout"
        },
        {
          "output_type": "execute_result",
          "execution_count": 21,
          "data": {
            "text/plain": "<keras.callbacks.History at 0x7f555e4fa1c0>"
          },
          "metadata": {}
        }
      ]
    },
    {
      "cell_type": "markdown",
      "source": [
        "Saving the Model"
      ],
      "metadata": {
        "id": "L_nkNu1N1kU-"
      }
    },
    {
      "metadata": {
        "id": "8ycxUPoA0Hb4"
      },
      "cell_type": "code",
      "source": [
        "model.save('IBM_Communication_Model.h5')\n",
        "# Current accuracy is 0.9980"
      ],
      "execution_count": null,
      "outputs": []
    },
    {
      "metadata": {
        "id": "_K-Do5M-0Hb5",
        "outputId": "edaf6370-6549-4682-bceb-48c4e1060feb"
      },
      "cell_type": "code",
      "source": [
        "# Convert the Saved Model to a Tar Compressed Format\n",
        "!tar -zcvf IBM_TrainedModel.tgz IBM_Communication_Model.h5"
      ],
      "execution_count": null,
      "outputs": [
        {
          "output_type": "stream",
          "text": "IBM_Communication_Model.h5\r\n",
          "name": "stdout"
        }
      ]
    },
    {
      "metadata": {
        "id": "rYdQONbt0Hb5",
        "outputId": "156605f0-44cc-433a-9af7-160bad9bb807"
      },
      "cell_type": "code",
      "source": [
        "%%bash\n",
        "ls -ll"
      ],
      "execution_count": null,
      "outputs": [
        {
          "output_type": "stream",
          "text": "total 209444\ndrwxrwx--- 4 wsuser wscommon      4096 Nov 17 09:14 Dataset\n-rw-rw---- 1 wsuser wscommon 111324760 Nov 17 09:39 IBM_Communication_Model.h5\n-rw-rw---- 1 wsuser wscommon 103133882 Nov 17 09:39 IBM_TrainedModel.tgz\n",
          "name": "stdout"
        }
      ]
    },
    {
      "cell_type": "markdown",
      "source": [
        "Watson Machine Learning"
      ],
      "metadata": {
        "id": "W0fM7TW-1tkM"
      }
    },
    {
      "metadata": {
        "id": "7XuUGcCm0Hb6",
        "outputId": "92f9df9f-a95a-4e12-b3de-68489cba7baf"
      },
      "cell_type": "code",
      "source": [
        "!pip install watson-machine-learning-client --upgrade"
      ],
      "execution_count": null,
      "outputs": [
        {
          "output_type": "stream",
          "text": "Collecting watson-machine-learning-client\n  Downloading watson_machine_learning_client-1.0.391-py3-none-any.whl (538 kB)\n\u001b[K     |████████████████████████████████| 538 kB 15.7 MB/s eta 0:00:01\n\u001b[?25hRequirement already satisfied: ibm-cos-sdk in /opt/conda/envs/Python-3.9/lib/python3.9/site-packages (from watson-machine-learning-client) (2.11.0)\nRequirement already satisfied: tabulate in /opt/conda/envs/Python-3.9/lib/python3.9/site-packages (from watson-machine-learning-client) (0.8.9)\nRequirement already satisfied: urllib3 in /opt/conda/envs/Python-3.9/lib/python3.9/site-packages (from watson-machine-learning-client) (1.26.7)\nRequirement already satisfied: pandas in /opt/conda/envs/Python-3.9/lib/python3.9/site-packages (from watson-machine-learning-client) (1.3.4)\nRequirement already satisfied: lomond in /opt/conda/envs/Python-3.9/lib/python3.9/site-packages (from watson-machine-learning-client) (0.3.3)\nRequirement already satisfied: certifi in /opt/conda/envs/Python-3.9/lib/python3.9/site-packages (from watson-machine-learning-client) (2022.9.24)\nRequirement already satisfied: requests in /opt/conda/envs/Python-3.9/lib/python3.9/site-packages (from watson-machine-learning-client) (2.26.0)\nRequirement already satisfied: boto3 in /opt/conda/envs/Python-3.9/lib/python3.9/site-packages (from watson-machine-learning-client) (1.18.21)\nRequirement already satisfied: tqdm in /opt/conda/envs/Python-3.9/lib/python3.9/site-packages (from watson-machine-learning-client) (4.62.3)\nRequirement already satisfied: jmespath<1.0.0,>=0.7.1 in /opt/conda/envs/Python-3.9/lib/python3.9/site-packages (from boto3->watson-machine-learning-client) (0.10.0)\nRequirement already satisfied: botocore<1.22.0,>=1.21.21 in /opt/conda/envs/Python-3.9/lib/python3.9/site-packages (from boto3->watson-machine-learning-client) (1.21.41)\nRequirement already satisfied: s3transfer<0.6.0,>=0.5.0 in /opt/conda/envs/Python-3.9/lib/python3.9/site-packages (from boto3->watson-machine-learning-client) (0.5.0)\nRequirement already satisfied: python-dateutil<3.0.0,>=2.1 in /opt/conda/envs/Python-3.9/lib/python3.9/site-packages (from botocore<1.22.0,>=1.21.21->boto3->watson-machine-learning-client) (2.8.2)\nRequirement already satisfied: six>=1.5 in /opt/conda/envs/Python-3.9/lib/python3.9/site-packages (from python-dateutil<3.0.0,>=2.1->botocore<1.22.0,>=1.21.21->boto3->watson-machine-learning-client) (1.15.0)\nRequirement already satisfied: ibm-cos-sdk-core==2.11.0 in /opt/conda/envs/Python-3.9/lib/python3.9/site-packages (from ibm-cos-sdk->watson-machine-learning-client) (2.11.0)\nRequirement already satisfied: ibm-cos-sdk-s3transfer==2.11.0 in /opt/conda/envs/Python-3.9/lib/python3.9/site-packages (from ibm-cos-sdk->watson-machine-learning-client) (2.11.0)\nRequirement already satisfied: idna<4,>=2.5 in /opt/conda/envs/Python-3.9/lib/python3.9/site-packages (from requests->watson-machine-learning-client) (3.3)\nRequirement already satisfied: charset-normalizer~=2.0.0 in /opt/conda/envs/Python-3.9/lib/python3.9/site-packages (from requests->watson-machine-learning-client) (2.0.4)\nRequirement already satisfied: pytz>=2017.3 in /opt/conda/envs/Python-3.9/lib/python3.9/site-packages (from pandas->watson-machine-learning-client) (2021.3)\nRequirement already satisfied: numpy>=1.17.3 in /opt/conda/envs/Python-3.9/lib/python3.9/site-packages (from pandas->watson-machine-learning-client) (1.20.3)\nInstalling collected packages: watson-machine-learning-client\nSuccessfully installed watson-machine-learning-client-1.0.391\n",
          "name": "stdout"
        }
      ]
    },
    {
      "metadata": {
        "id": "-m2K78rp0Hb6"
      },
      "cell_type": "code",
      "source": [
        "from ibm_watson_machine_learning import APIClient\n",
        "wml_credentials = {\n",
        "    \"url\": \"https://us-south.ml.cloud.ibm.com\",\n",
        "    \"apikey\": \"wV4Tv-F2SM4qyCC9XSbJTwNkjqUCRxoniOqUyGzKKQew\"\n",
        "}\n",
        "\n",
        "client = APIClient(wml_credentials)"
      ],
      "execution_count": null,
      "outputs": []
    },
    {
      "metadata": {
        "id": "d4ql3sL_0Hb7"
      },
      "cell_type": "code",
      "source": [
        "client = APIClient(wml_credentials)"
      ],
      "execution_count": null,
      "outputs": []
    },
    {
      "cell_type": "markdown",
      "source": [
        "Save to Deployment Space"
      ],
      "metadata": {
        "id": "8etwVnFK1yOZ"
      }
    },
    {
      "metadata": {
        "id": "y2hW721v0Hb7"
      },
      "cell_type": "code",
      "source": [
        "def guid_from_space_name(client, space_name):\n",
        "    space = client.spaces.get_details()\n",
        "    return (next(item for item in space['resources'] if item['entity'][\"name\"] == space_name)['metadata']['id'])"
      ],
      "execution_count": null,
      "outputs": []
    },
    {
      "metadata": {
        "id": "I-xqoPSx0Hb7",
        "outputId": "607ff330-c01b-4cd4-9a1a-2189ea66acfa"
      },
      "cell_type": "code",
      "source": [
        "space_uid = guid_from_space_name(client, 'communication_model_deployment')\n",
        "print(\"Space UID : \", space_uid)"
      ],
      "execution_count": null,
      "outputs": [
        {
          "output_type": "stream",
          "text": "Space UID :  212fb2a4-751b-4b69-913e-309b5e1f8dfb\n",
          "name": "stdout"
        }
      ]
    },
    {
      "metadata": {
        "id": "wGT9Gu250Hb8",
        "outputId": "25d92924-28ac-4fc5-bf47-67e51bdefe8d"
      },
      "cell_type": "code",
      "source": [
        "client.set.default_space(space_uid)"
      ],
      "execution_count": null,
      "outputs": [
        {
          "output_type": "execute_result",
          "execution_count": 35,
          "data": {
            "text/plain": "'SUCCESS'"
          },
          "metadata": {}
        }
      ]
    },
    {
      "metadata": {
        "id": "HiDZksoh0Hb9",
        "outputId": "0fd6a8e3-f1b0-4ef2-e3d4-707baf96d126"
      },
      "cell_type": "code",
      "source": [
        "client.software_specifications.list()"
      ],
      "execution_count": null,
      "outputs": [
        {
          "output_type": "stream",
          "text": "-----------------------------  ------------------------------------  ----\nNAME                           ASSET_ID                              TYPE\ndefault_py3.6                  0062b8c9-8b7d-44a0-a9b9-46c416adcbd9  base\nkernel-spark3.2-scala2.12      020d69ce-7ac1-5e68-ac1a-31189867356a  base\npytorch-onnx_1.3-py3.7-edt     069ea134-3346-5748-b513-49120e15d288  base\nscikit-learn_0.20-py3.6        09c5a1d0-9c1e-4473-a344-eb7b665ff687  base\nspark-mllib_3.0-scala_2.12     09f4cff0-90a7-5899-b9ed-1ef348aebdee  base\npytorch-onnx_rt22.1-py3.9      0b848dd4-e681-5599-be41-b5f6fccc6471  base\nai-function_0.1-py3.6          0cdb0f1e-5376-4f4d-92dd-da3b69aa9bda  base\nshiny-r3.6                     0e6e79df-875e-4f24-8ae9-62dcc2148306  base\ntensorflow_2.4-py3.7-horovod   1092590a-307d-563d-9b62-4eb7d64b3f22  base\npytorch_1.1-py3.6              10ac12d6-6b30-4ccd-8392-3e922c096a92  base\ntensorflow_1.15-py3.6-ddl      111e41b3-de2d-5422-a4d6-bf776828c4b7  base\nautoai-kb_rt22.2-py3.10        125b6d9a-5b1f-5e8d-972a-b251688ccf40  base\nruntime-22.1-py3.9             12b83a17-24d8-5082-900f-0ab31fbfd3cb  base\nscikit-learn_0.22-py3.6        154010fa-5b3b-4ac1-82af-4d5ee5abbc85  base\ndefault_r3.6                   1b70aec3-ab34-4b87-8aa0-a4a3c8296a36  base\npytorch-onnx_1.3-py3.6         1bc6029a-cc97-56da-b8e0-39c3880dbbe7  base\nkernel-spark3.3-r3.6           1c9e5454-f216-59dd-a20e-474a5cdf5988  base\npytorch-onnx_rt22.1-py3.9-edt  1d362186-7ad5-5b59-8b6c-9d0880bde37f  base\ntensorflow_2.1-py3.6           1eb25b84-d6ed-5dde-b6a5-3fbdf1665666  base\nspark-mllib_3.2                20047f72-0a98-58c7-9ff5-a77b012eb8f5  base\ntensorflow_2.4-py3.8-horovod   217c16f6-178f-56bf-824a-b19f20564c49  base\nruntime-22.1-py3.9-cuda        26215f05-08c3-5a41-a1b0-da66306ce658  base\ndo_py3.8                       295addb5-9ef9-547e-9bf4-92ae3563e720  base\nautoai-ts_3.8-py3.8            2aa0c932-798f-5ae9-abd6-15e0c2402fb5  base\ntensorflow_1.15-py3.6          2b73a275-7cbf-420b-a912-eae7f436e0bc  base\nkernel-spark3.3-py3.9          2b7961e2-e3b1-5a8c-a491-482c8368839a  base\npytorch_1.2-py3.6              2c8ef57d-2687-4b7d-acce-01f94976dac1  base\nspark-mllib_2.3                2e51f700-bca0-4b0d-88dc-5c6791338875  base\npytorch-onnx_1.1-py3.6-edt     32983cea-3f32-4400-8965-dde874a8d67e  base\nspark-mllib_3.0-py37           36507ebe-8770-55ba-ab2a-eafe787600e9  base\nspark-mllib_2.4                390d21f8-e58b-4fac-9c55-d7ceda621326  base\nautoai-ts_rt22.2-py3.10        396b2e83-0953-5b86-9a55-7ce1628a406f  base\nxgboost_0.82-py3.6             39e31acd-5f30-41dc-ae44-60233c80306e  base\npytorch-onnx_1.2-py3.6-edt     40589d0e-7019-4e28-8daa-fb03b6f4fe12  base\npytorch-onnx_rt22.2-py3.10     40e73f55-783a-5535-b3fa-0c8b94291431  base\ndefault_r36py38                41c247d3-45f8-5a71-b065-8580229facf0  base\nautoai-ts_rt22.1-py3.9         4269d26e-07ba-5d40-8f66-2d495b0c71f7  base\nautoai-obm_3.0                 42b92e18-d9ab-567f-988a-4240ba1ed5f7  base\npmml-3.0_4.3                   493bcb95-16f1-5bc5-bee8-81b8af80e9c7  base\nspark-mllib_2.4-r_3.6          49403dff-92e9-4c87-a3d7-a42d0021c095  base\nxgboost_0.90-py3.6             4ff8d6c2-1343-4c18-85e1-689c965304d3  base\npytorch-onnx_1.1-py3.6         50f95b2a-bc16-43bb-bc94-b0bed208c60b  base\nautoai-ts_3.9-py3.8            52c57136-80fa-572e-8728-a5e7cbb42cde  base\nspark-mllib_2.4-scala_2.11     55a70f99-7320-4be5-9fb9-9edb5a443af5  base\nspark-mllib_3.0                5c1b0ca2-4977-5c2e-9439-ffd44ea8ffe9  base\nautoai-obm_2.0                 5c2e37fa-80b8-5e77-840f-d912469614ee  base\nspss-modeler_18.1              5c3cad7e-507f-4b2a-a9a3-ab53a21dee8b  base\ncuda-py3.8                     5d3232bf-c86b-5df4-a2cd-7bb870a1cd4e  base\nautoai-kb_3.1-py3.7            632d4b22-10aa-5180-88f0-f52dfb6444d7  base\npytorch-onnx_1.7-py3.8         634d3cdc-b562-5bf9-a2d4-ea90a478456b  base\n-----------------------------  ------------------------------------  ----\nNote: Only first 50 records were displayed. To display more use 'limit' parameter.\n",
          "name": "stdout"
        }
      ]
    },
    {
      "metadata": {
        "id": "KQ_w9RJA0Hb9",
        "outputId": "f49c0169-7aef-4b92-ecad-a8af9841c25b"
      },
      "cell_type": "code",
      "source": [
        "software_spec_uid = client.software_specifications.get_uid_by_name(\"tensorflow_rt22.1-py3.9\")\n",
        "software_spec_uid"
      ],
      "execution_count": null,
      "outputs": [
        {
          "output_type": "execute_result",
          "execution_count": 37,
          "data": {
            "text/plain": "'acd9c798-6974-5d2f-a657-ce06e986df4d'"
          },
          "metadata": {}
        }
      ]
    },
    {
      "metadata": {
        "id": "hvGCl1m30Hb9",
        "outputId": "8bae11b3-b539-4c44-c825-ffab11b4c0b9"
      },
      "cell_type": "code",
      "source": [
        "model_details = client.repository.store_model(model='IBM_TrainedModel.tgz', meta_props={\n",
        "    client.repository.ModelMetaNames.NAME: \"CNN\",\n",
        "    client.repository.ModelMetaNames.SOFTWARE_SPEC_UID: software_spec_uid,\n",
        "    client.repository.ModelMetaNames.TYPE: \"tensorflow_2.7\"})\n",
        "get_model_id = client.repository.get_model_uid(model_details)"
      ],
      "execution_count": null,
      "outputs": [
        {
          "output_type": "stream",
          "text": "This method is deprecated, please use get_model_id()\n",
          "name": "stdout"
        }
      ]
    },
    {
      "metadata": {
        "id": "9B1h7Fpz0Hb-",
        "outputId": "ca9d042f-e390-47e5-99af-00b19fd46743"
      },
      "cell_type": "code",
      "source": [
        "get_model_id"
      ],
      "execution_count": null,
      "outputs": [
        {
          "output_type": "execute_result",
          "execution_count": 42,
          "data": {
            "text/plain": "'4d51d2f8-4c9a-47d8-bf8c-84f51d4f2245'"
          },
          "metadata": {}
        }
      ]
    },
    {
      "metadata": {
        "id": "WD4PKiod0Hb-",
        "outputId": "86e3293b-1dff-4178-ae28-9b4309df00b2"
      },
      "cell_type": "code",
      "source": [
        "client.repository.download(\"4d51d2f8-4c9a-47d8-bf8c-84f51d4f2245\",\"IBM_Model_Download.tar.gz\")"
      ],
      "execution_count": null,
      "outputs": [
        {
          "output_type": "stream",
          "text": "Successfully saved model content to file: 'IBM_Model_Download.tar.gz'\n",
          "name": "stdout"
        },
        {
          "output_type": "execute_result",
          "execution_count": 44,
          "data": {
            "text/plain": "'/home/wsuser/work/IBM_Model_Download.tar.gz'"
          },
          "metadata": {}
        }
      ]
    },
    {
      "metadata": {
        "id": "cBY25lQz0Hb_"
      },
      "cell_type": "code",
      "source": [],
      "execution_count": null,
      "outputs": []
    }
  ],
  "metadata": {
    "kernelspec": {
      "name": "python3",
      "display_name": "Python 3.9",
      "language": "python"
    },
    "language_info": {
      "name": "python",
      "version": "3.9.13",
      "mimetype": "text/x-python",
      "codemirror_mode": {
        "name": "ipython",
        "version": 3
      },
      "pygments_lexer": "ipython3",
      "nbconvert_exporter": "python",
      "file_extension": ".py"
    },
    "colab": {
      "provenance": []
    }
  },
  "nbformat": 4,
  "nbformat_minor": 0
}