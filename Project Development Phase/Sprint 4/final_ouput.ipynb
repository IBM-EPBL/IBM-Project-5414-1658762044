{
  "nbformat": 4,
  "nbformat_minor": 0,
  "metadata": {
    "colab": {
      "provenance": []
    },
    "kernelspec": {
      "name": "python3",
      "display_name": "Python 3"
    },
    "language_info": {
      "name": "python"
    }
  },
  "cells": [
    {
      "cell_type": "markdown",
      "source": [
        "Final output\n",
        "\n",
        "Import datagenerator to train and test"
      ],
      "metadata": {
        "id": "YGPf7o2CijVp"
      }
    },
    {
      "cell_type": "code",
      "execution_count": 43,
      "metadata": {
        "id": "QwJfxzIx8Tce"
      },
      "outputs": [],
      "source": [
        "from tensorflow.keras.preprocessing.image import ImageDataGenerator\n"
      ]
    },
    {
      "cell_type": "code",
      "source": [
        "train_datagen = ImageDataGenerator(rescale = 1./255,shear_range=0.2,zoom_range= 0.2,horizontal_flip=True,vertical_flip=False)"
      ],
      "metadata": {
        "id": "0qIuIrR_80_b"
      },
      "execution_count": 44,
      "outputs": []
    },
    {
      "cell_type": "code",
      "source": [
        "test_datagen = ImageDataGenerator(rescale = 1./255)\n"
      ],
      "metadata": {
        "id": "LkmrMK4F87SA"
      },
      "execution_count": 45,
      "outputs": []
    },
    {
      "cell_type": "code",
      "source": [
        "import tensorflow as tf\n",
        "import os\n",
        "from tensorflow.keras.models import Sequential\n",
        "from tensorflow.keras.layers import Dense, Conv2D, Flatten, Dropout, MaxPooling2D\n",
        "from tensorflow.keras.preprocessing.image import ImageDataGenerator\n",
        "import numpy as np\n",
        "import matplotlib.pyplot as plt\n",
        "import IPython.display as display\n",
        "from PIL import Image\n",
        "import pathlib"
      ],
      "metadata": {
        "id": "bFFvDfkJ8_oB"
      },
      "execution_count": 46,
      "outputs": []
    },
    {
      "cell_type": "code",
      "source": [
        "from keras.preprocessing import image\n",
        "# and use \n",
        "# image.ImageDataGenerator()\n",
        "# image.load_img()"
      ],
      "metadata": {
        "id": "oLGgMGSD35v2"
      },
      "execution_count": 47,
      "outputs": []
    },
    {
      "cell_type": "markdown",
      "source": [
        "Apply ImageDataGenerator Functionality To Train And Test set"
      ],
      "metadata": {
        "id": "yQkVnhDb9KHM"
      }
    },
    {
      "cell_type": "code",
      "source": [
        "from google.colab import drive"
      ],
      "metadata": {
        "id": "McGSKxqN9IZ4"
      },
      "execution_count": 48,
      "outputs": []
    },
    {
      "cell_type": "code",
      "source": [
        "from tensorflow.keras.preprocessing.image import ImageDataGenerator\n",
        "print(\"This dataset has been created and uploaded by IBM-TeamID-IBM-Project-PNT2022TMID00995\")"
      ],
      "metadata": {
        "colab": {
          "base_uri": "https://localhost:8080/"
        },
        "id": "iltTGukE9leW",
        "outputId": "93021bc2-06e9-4950-9982-37d8206eb094"
      },
      "execution_count": 49,
      "outputs": [
        {
          "output_type": "stream",
          "name": "stdout",
          "text": [
            "This dataset has been created and uploaded by IBM-TeamID-IBM-Project-PNT2022TMID00995\n"
          ]
        }
      ]
    },
    {
      "cell_type": "code",
      "source": [
        "x_train= train_datagen.flow_from_directory(r\"/content/drive/MyDrive/IBM PROJECT/DATA COLLECTION/training_set\",target_size=(64,64),class_mode=\"categorical\",batch_size=48)"
      ],
      "metadata": {
        "colab": {
          "base_uri": "https://localhost:8080/"
        },
        "id": "zUFdwvV-ELXF",
        "outputId": "ac2cd8a8-465e-4725-9557-2505d0f8ed80"
      },
      "execution_count": 50,
      "outputs": [
        {
          "output_type": "stream",
          "name": "stdout",
          "text": [
            "Found 15130 images belonging to 9 classes.\n"
          ]
        }
      ]
    },
    {
      "cell_type": "code",
      "source": [
        "x_test = test_datagen.flow_from_directory(r\"/content/drive/MyDrive/IBM PROJECT/DATA COLLECTION/test_set\",target_size= (64,64),class_mode= \"categorical\",batch_size=48)"
      ],
      "metadata": {
        "colab": {
          "base_uri": "https://localhost:8080/"
        },
        "id": "nyzO1GXxcR7S",
        "outputId": "829d9954-fd88-4e55-fe9a-152a9f9f9a2d"
      },
      "execution_count": 51,
      "outputs": [
        {
          "output_type": "stream",
          "name": "stdout",
          "text": [
            "Found 2250 images belonging to 9 classes.\n"
          ]
        }
      ]
    },
    {
      "cell_type": "code",
      "source": [
        "x_train.class_indices"
      ],
      "metadata": {
        "colab": {
          "base_uri": "https://localhost:8080/"
        },
        "id": "FU2r_uZpcVDI",
        "outputId": "f4dde011-fc79-41e2-e00a-1d4a8fda4dd1"
      },
      "execution_count": 52,
      "outputs": [
        {
          "output_type": "execute_result",
          "data": {
            "text/plain": [
              "{'A': 0, 'B': 1, 'C': 2, 'D': 3, 'E': 4, 'F': 5, 'G': 6, 'H': 7, 'I': 8}"
            ]
          },
          "metadata": {},
          "execution_count": 52
        }
      ]
    },
    {
      "cell_type": "code",
      "source": [
        "x_test.class_indices"
      ],
      "metadata": {
        "colab": {
          "base_uri": "https://localhost:8080/"
        },
        "id": "RwbQNfo8cZPH",
        "outputId": "24cc89b7-c749-4ddf-aaef-94deb604dbc4"
      },
      "execution_count": 53,
      "outputs": [
        {
          "output_type": "execute_result",
          "data": {
            "text/plain": [
              "{'A': 0, 'B': 1, 'C': 2, 'D': 3, 'E': 4, 'F': 5, 'G': 6, 'H': 7, 'I': 8}"
            ]
          },
          "metadata": {},
          "execution_count": 53
        }
      ]
    },
    {
      "cell_type": "markdown",
      "source": [
        "MODEL BUILDING"
      ],
      "metadata": {
        "id": "cNxMgZ0bceVb"
      }
    },
    {
      "cell_type": "code",
      "source": [
        "from keras.models import Sequential\n",
        "from keras.layers import Dense\n",
        "from keras.layers import Convolution2D\n",
        "from tensorflow.keras.layers import Conv2D, MaxPooling2D\n",
        "from keras.layers import Dropout\n",
        "from keras.layers import Flatten"
      ],
      "metadata": {
        "id": "8pzZtMuRcdRy"
      },
      "execution_count": 54,
      "outputs": []
    },
    {
      "cell_type": "code",
      "source": [
        "model=Sequential()\n"
      ],
      "metadata": {
        "id": "m8fbQ1g0cj8H"
      },
      "execution_count": 55,
      "outputs": []
    },
    {
      "cell_type": "code",
      "source": [
        "model.add(Convolution2D(32,(3,3), input_shape=(64,64,1), activation = 'relu'))"
      ],
      "metadata": {
        "id": "rr2elUh6czz1"
      },
      "execution_count": 56,
      "outputs": []
    },
    {
      "cell_type": "code",
      "source": [
        "model.add(MaxPooling2D(pool_size=(2,2)))"
      ],
      "metadata": {
        "id": "vL2YthDwc06h"
      },
      "execution_count": 57,
      "outputs": []
    },
    {
      "cell_type": "code",
      "source": [
        "model.add(Flatten())"
      ],
      "metadata": {
        "id": "Qql0NXHrc4oI"
      },
      "execution_count": 58,
      "outputs": []
    },
    {
      "cell_type": "code",
      "source": [
        "model.add(Dense( units=512, activation='relu'))"
      ],
      "metadata": {
        "id": "Qm7ti4DDc5kf"
      },
      "execution_count": 59,
      "outputs": []
    },
    {
      "cell_type": "code",
      "source": [
        "model.add(Dense(units=9, activation='softmax'))"
      ],
      "metadata": {
        "id": "lUC0bGP4dA2q"
      },
      "execution_count": 60,
      "outputs": []
    },
    {
      "cell_type": "code",
      "source": [
        "model.compile(loss='categorical_crossentropy', optimizer='adam', metrics=['accuracy'])"
      ],
      "metadata": {
        "id": "4TdR0kpddEos"
      },
      "execution_count": 61,
      "outputs": []
    },
    {
      "cell_type": "code",
      "source": [
        "model.save('Realtime.h5')"
      ],
      "metadata": {
        "id": "0MqA5ChVdFmo"
      },
      "execution_count": 62,
      "outputs": []
    },
    {
      "cell_type": "code",
      "source": [
        "a=len(x_train)\n",
        "b=len(x_test)"
      ],
      "metadata": {
        "id": "BPoSb0JXdJDa"
      },
      "execution_count": 63,
      "outputs": []
    },
    {
      "cell_type": "markdown",
      "source": [
        "Length of training and testing data"
      ],
      "metadata": {
        "id": "e5ZGRDrAdLS2"
      }
    },
    {
      "cell_type": "code",
      "source": [
        "print(a)\n",
        "print(b)"
      ],
      "metadata": {
        "colab": {
          "base_uri": "https://localhost:8080/"
        },
        "id": "uYAg1y8RdMA-",
        "outputId": "dda1fdd6-f153-4a36-ab4d-e9be3dcf4626"
      },
      "execution_count": 64,
      "outputs": [
        {
          "output_type": "stream",
          "name": "stdout",
          "text": [
            "316\n",
            "47\n"
          ]
        }
      ]
    },
    {
      "cell_type": "markdown",
      "source": [
        "TEST THE MODEL\n",
        "\n"
      ],
      "metadata": {
        "id": "fIr2vOYddW8a"
      }
    },
    {
      "cell_type": "code",
      "source": [
        "from tensorflow.keras.models import load_model\n",
        "from tensorflow.keras.preprocessing import image\n",
        "import numpy as np\n",
        "import cv2"
      ],
      "metadata": {
        "id": "365qYVV1dX64"
      },
      "execution_count": 65,
      "outputs": []
    },
    {
      "cell_type": "code",
      "source": [
        "img = image.load_img('/content/drive/MyDrive/IBM PROJECT/DATA COLLECTION/test_set/D/101.png',target_size = (500,500))\n",
        "img"
      ],
      "metadata": {
        "id": "b-3vfDb6iLM5",
        "colab": {
          "base_uri": "https://localhost:8080/",
          "height": 517
        },
        "outputId": "c9f3f474-744d-4696-edca-f9e626f60ce8"
      },
      "execution_count": 76,
      "outputs": [
        {
          "output_type": "execute_result",
          "data": {
            "text/plain": [
              "<PIL.Image.Image image mode=RGB size=500x500 at 0x7F558750BF90>"
            ],
            "image/png": "[encoded data removed]"
          },
          "metadata": {},
          "execution_count": 76
        }
      ]
    },
    {
      "cell_type": "code",
      "source": [
        "from skimage.transform import resize\n",
        "arr=image.img_to_array(frame)\n",
        "arr = resize(arr,(64,64,1))\n",
        "arr = np.expand_dims(arr,axis=0)\n",
        "pred=np.argmax(model.predict(arr))\n",
        "op=['A','B','C','D','E','F','G','H','I']\n",
        "print(\"THE PREDICTED LETTER IS \",op[pred])"
      ],
      "metadata": {
        "id": "nh1K4y8-dfid",
        "colab": {
          "base_uri": "https://localhost:8080/"
        },
        "outputId": "407e362b-f4f2-4462-dee6-14c0fb0adca5"
      },
      "execution_count": 67,
      "outputs": [
        {
          "output_type": "stream",
          "name": "stdout",
          "text": [
            "1/1 [==============================] - 0s 65ms/step\n",
            "THE PREDICTED LETTER IS  D\n"
          ]
        }
      ]
    },
    {
      "cell_type": "code",
      "source": [
        "from skimage.transform import resize\n",
        "def detect(frame):\n",
        "  img=resize(frame,(64,64,1))\n",
        "  img=np.expand_dims(img,axis=0)\n",
        "  if(np.max(img)>1):\n",
        "    prediction=model.predict(img)\n",
        "    print(prediction)\n",
        "    prediction=model.predict_classes(img)\n",
        "    print(prediction)"
      ],
      "metadata": {
        "id": "0aHYnbcrdgoZ"
      },
      "execution_count": 69,
      "outputs": []
    },
    {
      "cell_type": "code",
      "source": [
        "arr= image.img_to_array(img)"
      ],
      "metadata": {
        "id": "KgkmIwRKdk98"
      },
      "execution_count": 70,
      "outputs": []
    },
    {
      "cell_type": "code",
      "source": [
        "frame=cv2.imread('/content/drive/MyDrive/IBM PROJECT/DATA COLLECTION/test_set/F/107.png')\n",
        "data=detect(frame)\n",
        "from google.colab.patches import cv2_imshow\n",
        "cv2_imshow(frame)\n",
        "cv2.waitKey(0)\n",
        "cv2.destroyAllWindows()"
      ],
      "metadata": {
        "id": "JLlrTKRAdlux",
        "colab": {
          "base_uri": "https://localhost:8080/",
          "height": 81
        },
        "outputId": "af615524-8281-460a-c77c-492bc09195da"
      },
      "execution_count": 71,
      "outputs": [
        {
          "output_type": "display_data",
          "data": {
            "text/plain": [
              "<PIL.Image.Image image mode=RGB size=64x64 at 0x7F558865DC90>"
            ],
            "image/png": "[encoded data removed]"
          },
          "metadata": {}
        }
      ]
    },
    {
      "cell_type": "code",
      "source": [
        "frame=cv2.imread('/content/drive/MyDrive/IBM PROJECT/DATA COLLECTION/test_set/A/102.png')\n",
        "data=detect(frame)\n",
        "from google.colab.patches import cv2_imshow\n",
        "cv2_imshow(frame)\n",
        "cv2.waitKey(0)\n",
        "cv2.destroyAllWindows()\n"
      ],
      "metadata": {
        "id": "2W4s7KOXdoys",
        "colab": {
          "base_uri": "https://localhost:8080/",
          "height": 81
        },
        "outputId": "e5b3ce74-321a-4ff8-cb19-116886d7561b"
      },
      "execution_count": 74,
      "outputs": [
        {
          "output_type": "display_data",
          "data": {
            "text/plain": [
              "<PIL.Image.Image image mode=RGB size=64x64 at 0x7F558750D850>"
            ],
            "image/png": "[encoded data removed]"
          },
          "metadata": {}
        }
      ]
    },
    {
      "cell_type": "code",
      "source": [
        "frame=cv2.imread('/content/drive/MyDrive/IBM PROJECT/DATA COLLECTION/test_set/D/108.png')\n",
        "data=detect(frame)\n",
        "from google.colab.patches import cv2_imshow\n",
        "cv2_imshow(frame)\n",
        "cv2.waitKey(0)\n",
        "cv2.destroyAllWindows()\n",
        "print(\"THE PREDICTED LETTER IS \",op[pred])"
      ],
      "metadata": {
        "id": "tneM2OQtdsyo",
        "colab": {
          "base_uri": "https://localhost:8080/",
          "height": 98
        },
        "outputId": "bb6775d4-e8ed-407c-91f0-f8a74e20e393"
      },
      "execution_count": 75,
      "outputs": [
        {
          "output_type": "display_data",
          "data": {
            "text/plain": [
              "<PIL.Image.Image image mode=RGB size=64x64 at 0x7F558750D350>"
            ],
            "image/png": "[encoded data removed]"
          },
          "metadata": {}
        },
        {
          "output_type": "stream",
          "name": "stdout",
          "text": [
            "THE PREDICTED LETTER IS  D\n"
          ]
        }
      ]
    }
  ]
}